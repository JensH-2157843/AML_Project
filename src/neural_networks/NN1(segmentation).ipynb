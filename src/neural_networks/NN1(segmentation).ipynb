{
  "cells": [
    {
      "cell_type": "markdown",
      "metadata": {
        "id": "view-in-github",
        "colab_type": "text"
      },
      "source": [
        "<a href=\"https://colab.research.google.com/github/JensH-2157843/AML_Project/blob/main/src/neural_networks/NN1(segmentation).ipynb\" target=\"_parent\"><img src=\"https://colab.research.google.com/assets/colab-badge.svg\" alt=\"Open In Colab\"/></a>"
      ]
    },
    {
      "cell_type": "markdown",
      "source": [
        "# Library imports"
      ],
      "metadata": {
        "id": "Um0i7fD1wrYv"
      },
      "id": "Um0i7fD1wrYv"
    },
    {
      "cell_type": "code",
      "source": [
        "!pip install segmentation-models==1.0.1 albumentations==1.3.1 --quiet\n",
        "import os\n",
        "import numpy as np\n",
        "from PIL import Image\n",
        "from glob import glob\n",
        "from sklearn.model_selection import train_test_split\n",
        "from torch.utils.data import Dataset, DataLoader\n",
        "import torch\n",
        "import torchvision.transforms as T\n",
        "import torch.nn as nn\n",
        "import torch.optim as optim\n",
        "from tqdm import tqdm\n",
        "import tensorflow as tf\n",
        "import matplotlib.pyplot as plt\n",
        "from transformers import SegformerFeatureExtractor"
      ],
      "metadata": {
        "id": "NABThOXpwtiG",
        "outputId": "491956ad-d176-4993-c155-0d1f590a1bc5",
        "colab": {
          "base_uri": "https://localhost:8080/"
        }
      },
      "id": "NABThOXpwtiG",
      "execution_count": 2,
      "outputs": [
        {
          "output_type": "stream",
          "name": "stdout",
          "text": [
            "\u001b[?25l   \u001b[90m━━━━━━━━━━━━━━━━━━━━━━━━━━━━━━━━━━━━━━━━\u001b[0m \u001b[32m0.0/125.7 kB\u001b[0m \u001b[31m?\u001b[0m eta \u001b[36m-:--:--\u001b[0m\r\u001b[2K   \u001b[90m━━━━━━━━━━━━━━━━━━━━━━━━━━━━━━━━━━━━━━━━\u001b[0m \u001b[32m125.7/125.7 kB\u001b[0m \u001b[31m5.1 MB/s\u001b[0m eta \u001b[36m0:00:00\u001b[0m\n",
            "\u001b[?25h\u001b[?25l   \u001b[90m━━━━━━━━━━━━━━━━━━━━━━━━━━━━━━━━━━━━━━━━\u001b[0m \u001b[32m0.0/50.7 kB\u001b[0m \u001b[31m?\u001b[0m eta \u001b[36m-:--:--\u001b[0m\r\u001b[2K   \u001b[90m━━━━━━━━━━━━━━━━━━━━━━━━━━━━━━━━━━━━━━━━\u001b[0m \u001b[32m50.7/50.7 kB\u001b[0m \u001b[31m3.5 MB/s\u001b[0m eta \u001b[36m0:00:00\u001b[0m\n",
            "\u001b[?25h"
          ]
        }
      ]
    },
    {
      "cell_type": "markdown",
      "source": [
        "# Dataset import"
      ],
      "metadata": {
        "id": "903c_9H44Wfs"
      },
      "id": "903c_9H44Wfs"
    },
    {
      "cell_type": "code",
      "source": [
        "from google.colab import drive\n",
        "drive.mount('/content/drive')"
      ],
      "metadata": {
        "id": "LlRduzl82rms"
      },
      "id": "LlRduzl82rms",
      "execution_count": null,
      "outputs": []
    },
    {
      "cell_type": "code",
      "source": [
        "## DATASET IMPORT ##\n",
        "\n",
        "# 1. Dataset Paths\n",
        "# --------------------\n",
        "\n",
        "deepglobe_dir = \"/content/drive/MyDrive/train\"\n",
        "import os\n",
        "\n",
        "deepglobe_images = sorted(glob(os.path.join(deepglobe_dir, '*_sat.jpg')))\n",
        "deepglobe_masks = sorted(glob(os.path.join(deepglobe_dir, '*_mask.png')))\n",
        "\n",
        "for tile in sorted(os.listdir(deepglobe_dir)):\n",
        "    tile_path = os.path.join(deepglobe_dir, tile)\n",
        "    if not os.path.isdir(tile_path):\n",
        "        continue\n",
        "    img_folder = os.path.join(tile_path, \"images\")\n",
        "    mask_folder = os.path.join(tile_path, \"masks\")\n",
        "    deepglobe_images.extend(sorted(glob(os.path.join(img_folder, '*.jpg'))))\n",
        "    deepglobe_masks.extend(sorted(glob(os.path.join(mask_folder, '*.png'))))\n",
        "\n",
        "all_images = deepglobe_images\n",
        "all_masks = deepglobe_masks\n",
        "\n",
        "train_imgs, val_imgs, train_masks, val_masks = train_test_split(\n",
        "    all_images, all_masks, test_size=0.2, random_state=42\n",
        ")"
      ],
      "metadata": {
        "id": "LA8Iaee_wwtJ",
        "outputId": "51e646ad-21f1-4514-da54-c5ba094b70f7",
        "colab": {
          "base_uri": "https://localhost:8080/"
        }
      },
      "id": "LA8Iaee_wwtJ",
      "execution_count": 21,
      "outputs": [
        {
          "output_type": "stream",
          "name": "stdout",
          "text": [
            "642\n"
          ]
        }
      ]
    }
  ],
  "metadata": {
    "kernelspec": {
      "display_name": "Python 3",
      "language": "python",
      "name": "python3"
    },
    "language_info": {
      "codemirror_mode": {
        "name": "ipython",
        "version": 3
      },
      "file_extension": ".py",
      "mimetype": "text/x-python",
      "name": "python",
      "nbconvert_exporter": "python",
      "pygments_lexer": "ipython3",
      "version": "3.11.11"
    },
    "colab": {
      "provenance": [],
      "include_colab_link": true
    }
  },
  "nbformat": 4,
  "nbformat_minor": 5
}