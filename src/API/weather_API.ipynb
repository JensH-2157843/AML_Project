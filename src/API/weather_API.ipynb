{
 "cells": [
  {
   "cell_type": "code",
   "execution_count": null,
   "id": "6afd29b5",
   "metadata": {
    "vscode": {
     "languageId": "plaintext"
    }
   },
   "outputs": [],
   "source": [
    "import requests\n",
    "from dataclasses import dataclass\n",
    "\n",
    "# Constants (replace with your actual API key)\n",
    "API_KEY = 'your_api_key_here'\n",
    "BASE_URL = 'https://api.openweathermap.org/data/2.5/weather'\n",
    "\n",
    "\n",
    "@dataclass\n",
    "class WeatherData:\n",
    "    location: str\n",
    "    temperature: float\n",
    "    description: str\n",
    "    humidity: int\n",
    "    wind_speed: float\n",
    "\n",
    "\n",
    "class WeatherAPI:\n",
    "    def __init__(self, api_key: str):\n",
    "        self.api_key = api_key\n",
    "        self.base_url = BASE_URL\n",
    "\n",
    "    def get_weather_by_coordinates(self, latitude: float, longitude: float) -> WeatherData | None:\n",
    "        \"\"\"Fetch current weather data using latitude and longitude.\"\"\"\n",
    "        params = {\n",
    "            'lat': latitude,\n",
    "            'lon': longitude,\n",
    "            'appid': self.api_key,\n",
    "            'units': 'metric',\n",
    "        }\n",
    "        response = requests.get(self.base_url, params=params)\n",
    "\n",
    "        if response.status_code == 200:\n",
    "            data = response.json()\n",
    "            return WeatherData(\n",
    "                location=data.get('name', 'Unknown'),\n",
    "                temperature=data['main']['temp'],\n",
    "                description=data['weather'][0]['description'],\n",
    "                humidity=data['main']['humidity'],\n",
    "                wind_speed=data['wind']['speed']\n",
    "            )\n",
    "        else:\n",
    "            print(f\"[Error {response.status_code}] {response.text}\")\n",
    "            return None\n",
    "\n"
   ]
  }
 ],
 "metadata": {
  "language_info": {
   "name": "python"
  }
 },
 "nbformat": 4,
 "nbformat_minor": 5
}
