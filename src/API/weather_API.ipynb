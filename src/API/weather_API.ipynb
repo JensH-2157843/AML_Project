{
 "cells": [
  {
   "cell_type": "code",
   "execution_count": null,
   "id": "6afd29b5",
   "metadata": {},
   "outputs": [],
   "source": [
    "import requests\n",
    "\n",
    "# history.openweathermap.org/data/2.5/aggregated/year\n",
    "\n",
    "def get_data(lat,long):\n",
    "    key=\"a867eb1833f63c9906c899612f38975e\"\n",
    "    res = requests.get(f\"https://history.openweathermap.org/data/2.5/aggregated/year?lat={lat}&lon={long}&appid={key}\")\n",
    "    data = res.json()\n",
    "\n",
    "    return data\n",
    "\n",
    "#result = get_data(50.96613,5.5021)"
   ]
  },
  {
   "cell_type": "code",
   "execution_count": null,
   "id": "6c8be61a",
   "metadata": {},
   "outputs": [],
   "source": [
    "import csv \n",
    "import os\n",
    "def get_filtered_data(lat, long):\n",
    "\n",
    "    result = get_data(lat, long)\n",
    "\n",
    "    collection = {\n",
    "        \"lat\": lat,\n",
    "        \"long\": long,\n",
    "        \"clouds\": 0,\n",
    "        \"clouds_std\":0,\n",
    "        \"temp\": 0,\n",
    "        \"temp_std\": 0\n",
    "    }\n",
    "    fieldnames = [\"lat\",\"long\",\"clouds\",\"clouds_std\",\"temp\",\"temp_std\"]\n",
    "    count = 0\n",
    "\n",
    "    for rec in result[\"result\"]:\n",
    "        collection[\"clouds\"] += rec[\"clouds\"][\"mean\"]\n",
    "        collection[\"clouds_std\"] += rec[\"clouds\"][\"st_dev\"]\n",
    "        collection[\"temp\"] += rec[\"temp\"][\"mean\"]\n",
    "        collection[\"temp_std\"] += rec[\"temp\"][\"st_dev\"]\n",
    "        count += 1\n",
    "\n",
    "    collection[\"clouds\"] = collection[\"clouds\"] / count\n",
    "    collection[\"temp\"] = (collection[\"temp\"] / count) - 272.15 \n",
    "    collection[\"clouds_std\"] = collection[\"clouds_std\"] / count\n",
    "    collection[\"temp_std\"] = collection[\"temp_std\"] / count\n",
    "\n",
    "    file_exists = os.path.isfile('./data/weather_data.csv')\n",
    "    fieldnames = [\"lat\", \"long\", \"temp\", \"temp_std\", \"clouds\", \"clouds_std\"]\n",
    "\n",
    "    with open('./data/weather_data.csv', 'a', newline='') as file:\n",
    "        writer = csv.DictWriter(file, fieldnames=fieldnames)\n",
    "        if not file_exists:\n",
    "            writer.writeheader()\n",
    "        writer.writerow(collection)\n",
    "\n",
    "    "
   ]
  },
  {
   "cell_type": "code",
   "execution_count": null,
   "id": "fba13c16",
   "metadata": {},
   "outputs": [],
   "source": [
    "for long in range(-9,10):\n",
    "    get_filtered_data(long*10,180)"
   ]
  }
 ],
 "metadata": {
  "kernelspec": {
   "display_name": "Python 3",
   "language": "python",
   "name": "python3"
  },
  "language_info": {
   "codemirror_mode": {
    "name": "ipython",
    "version": 3
   },
   "file_extension": ".py",
   "mimetype": "text/x-python",
   "name": "python",
   "nbconvert_exporter": "python",
   "pygments_lexer": "ipython3",
   "version": "3.12.5"
  }
 },
 "nbformat": 4,
 "nbformat_minor": 5
}
