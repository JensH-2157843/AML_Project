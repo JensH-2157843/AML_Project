{
 "cells": [
  {
   "cell_type": "code",
   "execution_count": 1,
   "id": "e2b0f1e6",
   "metadata": {},
   "outputs": [],
   "source": [
    "import http\n",
    "from datetime import datetime, timezone, timedelta\n",
    "from dateutil.relativedelta import relativedelta\n",
    "\n",
    "def get_data(lat,long,start_time,end_time):\n",
    "    conn = http.client.HTTPSConnection(\"api.solcast.com.au\")\n",
    "    key=\"SypFgeyhWJE691_LtqAtjwivK8pBaG6N\"\n",
    "    payload = ''\n",
    "    headers = {}\n",
    "    data= {}\n",
    "    for i in range(12):\n",
    "        conn.request(\"GET\", f\"/data/historic/radiation_and_weather?latitude={lat}&longitude={long}&azimuth=44&tilt=90&start={(start_time + relativedelta(months=i)).isoformat()}&duration=P30D&format=json&time_zone=utc&api_key={key}&period=PT1H\", payload, headers)\n",
    "        res = conn.getresponse()\n",
    "        data[i] = res.read().decode(\"utf-8\")\n",
    "    return data"
   ]
  },
  {
   "cell_type": "code",
   "execution_count": 2,
   "id": "ae779cf4",
   "metadata": {},
   "outputs": [
    {
     "name": "stdout",
     "output_type": "stream",
     "text": [
      "0\n",
      "{\"response_status\":{\"error_code\":\"PaymentRequired\",\"message\":\"Transaction Limit Exceeded\",\"errors\":[]}}\n",
      "1\n",
      "{\"response_status\":{\"error_code\":\"LessThanOrEqual\",\"message\":\"\\\"start\\\" + Duration must be in the past\",\"errors\":[{\"error_code\":\"LessThanOrEqual\",\"field_name\":\"\",\"message\":\"\\\"start\\\" + Duration must be in the past\",\"meta\":{\"ComparisonValue\":\"2025-05-14T08:15:01.8299207+00:00\",\"ComparisonProperty\":\"\",\"PropertyValue\":\"2025-06-06T08:15:01.2634720+00:00\"}}]}}\n",
      "2\n",
      "{\"response_status\":{\"error_code\":\"LessThanOrEqual\",\"message\":\"\\\"start\\\" + Duration must be in the past\",\"errors\":[{\"error_code\":\"LessThanOrEqual\",\"field_name\":\"\",\"message\":\"\\\"start\\\" + Duration must be in the past\",\"meta\":{\"ComparisonValue\":\"2025-05-14T08:15:02.3874481+00:00\",\"ComparisonProperty\":\"\",\"PropertyValue\":\"2025-07-07T08:15:01.2634720+00:00\"}}]}}\n",
      "3\n",
      "{\"response_status\":{\"error_code\":\"LessThanOrEqual\",\"message\":\"\\\"start\\\" + Duration must be in the past\",\"errors\":[{\"error_code\":\"LessThanOrEqual\",\"field_name\":\"\",\"message\":\"\\\"start\\\" + Duration must be in the past\",\"meta\":{\"ComparisonValue\":\"2025-05-14T08:15:02.9441620+00:00\",\"ComparisonProperty\":\"\",\"PropertyValue\":\"2025-08-06T08:15:01.2634720+00:00\"}}]}}\n",
      "4\n",
      "{\"response_status\":{\"error_code\":\"LessThanOrEqual\",\"message\":\"\\\"start\\\" + Duration must be in the past\",\"errors\":[{\"error_code\":\"LessThanOrEqual\",\"field_name\":\"\",\"message\":\"\\\"start\\\" + Duration must be in the past\",\"meta\":{\"ComparisonValue\":\"2025-05-14T08:15:03.5009572+00:00\",\"ComparisonProperty\":\"\",\"PropertyValue\":\"2025-09-06T08:15:01.2634720+00:00\"}}]}}\n",
      "5\n",
      "{\"response_status\":{\"error_code\":\"LessThanOrEqual\",\"message\":\"\\\"start\\\" + Duration must be in the past\",\"errors\":[{\"error_code\":\"LessThanOrEqual\",\"field_name\":\"\",\"message\":\"\\\"start\\\" + Duration must be in the past\",\"meta\":{\"ComparisonValue\":\"2025-05-14T08:15:04.0571211+00:00\",\"ComparisonProperty\":\"\",\"PropertyValue\":\"2025-10-07T08:15:01.2634720+00:00\"}}]}}\n",
      "6\n",
      "{\"response_status\":{\"error_code\":\"LessThanOrEqual\",\"message\":\"\\\"start\\\" + Duration must be in the past\",\"errors\":[{\"error_code\":\"LessThanOrEqual\",\"field_name\":\"\",\"message\":\"\\\"start\\\" + Duration must be in the past\",\"meta\":{\"ComparisonValue\":\"2025-05-14T08:15:04.6673011+00:00\",\"ComparisonProperty\":\"\",\"PropertyValue\":\"2025-11-06T08:15:01.2634720+00:00\"}}]}}\n",
      "7\n",
      "{\"response_status\":{\"error_code\":\"LessThanOrEqual\",\"message\":\"\\\"start\\\" + Duration must be in the past\",\"errors\":[{\"error_code\":\"LessThanOrEqual\",\"field_name\":\"\",\"message\":\"\\\"start\\\" + Duration must be in the past\",\"meta\":{\"ComparisonValue\":\"2025-05-14T08:15:05.3643408+00:00\",\"ComparisonProperty\":\"\",\"PropertyValue\":\"2025-12-07T08:15:01.2634720+00:00\"}}]}}\n",
      "8\n",
      "{\"response_status\":{\"error_code\":\"LessThanOrEqual\",\"message\":\"\\\"start\\\" + Duration must be in the past\",\"errors\":[{\"error_code\":\"LessThanOrEqual\",\"field_name\":\"\",\"message\":\"\\\"start\\\" + Duration must be in the past\",\"meta\":{\"ComparisonValue\":\"2025-05-14T08:15:05.9888815+00:00\",\"ComparisonProperty\":\"\",\"PropertyValue\":\"2026-01-06T08:15:01.2634720+00:00\"}}]}}\n",
      "9\n",
      "{\"response_status\":{\"error_code\":\"LessThanOrEqual\",\"message\":\"\\\"start\\\" + Duration must be in the past\",\"errors\":[{\"error_code\":\"LessThanOrEqual\",\"field_name\":\"\",\"message\":\"\\\"start\\\" + Duration must be in the past\",\"meta\":{\"ComparisonValue\":\"2025-05-14T08:15:06.2805120+00:00\",\"ComparisonProperty\":\"\",\"PropertyValue\":\"2026-02-06T08:15:01.2634720+00:00\"}}]}}\n",
      "10\n",
      "{\"response_status\":{\"error_code\":\"LessThanOrEqual\",\"message\":\"\\\"start\\\" + Duration must be in the past\",\"errors\":[{\"error_code\":\"LessThanOrEqual\",\"field_name\":\"\",\"message\":\"\\\"start\\\" + Duration must be in the past\",\"meta\":{\"ComparisonValue\":\"2025-05-14T08:15:06.5714215+00:00\",\"ComparisonProperty\":\"\",\"PropertyValue\":\"2026-03-09T08:15:01.2634720+00:00\"}}]}}\n",
      "11\n",
      "{\"response_status\":{\"error_code\":\"LessThanOrEqual\",\"message\":\"\\\"start\\\" + Duration must be in the past\",\"errors\":[{\"error_code\":\"LessThanOrEqual\",\"field_name\":\"\",\"message\":\"\\\"start\\\" + Duration must be in the past\",\"meta\":{\"ComparisonValue\":\"2025-05-14T08:15:07.1296241+00:00\",\"ComparisonProperty\":\"\",\"PropertyValue\":\"2026-04-06T08:15:01.2634720+00:00\"}}]}}\n"
     ]
    },
    {
     "data": {
      "text/plain": [
       "{'dni': 0, 'ghi': 0, 'air_temp': 0}"
      ]
     },
     "execution_count": 2,
     "metadata": {},
     "output_type": "execute_result"
    }
   ],
   "source": [
    "import http\n",
    "from datetime import datetime, timezone, timedelta\n",
    "from dateutil.relativedelta import relativedelta\n",
    "\n",
    "def avg_solar(lat, long):\n",
    "    now = datetime.now(timezone.utc)\n",
    "    minus_7_days = now - timedelta(days=7)\n",
    "    result = minus_7_days - relativedelta(months=1)\n",
    "\n",
    "    data = get_data(lat,long,result,minus_7_days.isoformat())\n",
    "\n",
    "    air_temp = 0\n",
    "    dni = 0\n",
    "    ghi = 0\n",
    "\n",
    "    count = 0\n",
    "    for part in data:\n",
    "        print(part)\n",
    "        print(data[part])\n",
    "        #for period in part[\"estimated_actuals\"]:\n",
    "        #    air_temp += period[\"air_temp\"]\n",
    "        #    dni += period[\"dni\"]\n",
    "        #    ghi += period[\"ghi\"]\n",
    "        #    count += 1\n",
    "    \n",
    "    return {\"dni\":dni,\"ghi\": ghi,\"air_temp\": air_temp}\n",
    "\n",
    "\n",
    "avg_solar(0,0)"
   ]
  }
 ],
 "metadata": {
  "kernelspec": {
   "display_name": "Python 3",
   "language": "python",
   "name": "python3"
  },
  "language_info": {
   "codemirror_mode": {
    "name": "ipython",
    "version": 3
   },
   "file_extension": ".py",
   "mimetype": "text/x-python",
   "name": "python",
   "nbconvert_exporter": "python",
   "pygments_lexer": "ipython3",
   "version": "3.12.5"
  }
 },
 "nbformat": 4,
 "nbformat_minor": 5
}
